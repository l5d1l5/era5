{
 "cells": [
  {
   "cell_type": "markdown",
   "metadata": {},
   "source": [
    "Xarray processing stream for ERA5 netcdf files\n",
    "Written by: Matt Jolly\n",
    "Date: 24 July 2019"
   ]
  },
  {
   "cell_type": "code",
   "execution_count": 4,
   "metadata": {},
   "outputs": [],
   "source": [
    "%matplotlib inline\n",
    "import math\n",
    "import xarray as xr\n",
    "from dask.diagnostics import ProgressBar\n",
    "import numpy as np\n",
    "import pandas as pd\n",
    "import netCDF4\n",
    "import cartopy.crs as ccrs\n",
    "import matplotlib.pyplot as plt"
   ]
  },
  {
   "cell_type": "code",
   "execution_count": 5,
   "metadata": {},
   "outputs": [
    {
     "name": "stdout",
     "output_type": "stream",
     "text": [
      "/media/BigFire/projects/era5/data/era5_single_levels_t2m_2018.nc\n"
     ]
    }
   ],
   "source": [
    "# Basic file path to NetCDF data files\n",
    "fpath = '/media/BigFire/projects/era5/data'\n",
    "# Air temperature file\n",
    "t2m = 'era5_single_levels_t2m_2018.nc'\n",
    "t2mfullpath = \"%s/%s\" % (fpath,t2m)\n",
    "# Dewpoint temperature file\n",
    "tdew = 'era5_single_levels_2m_dewpoint_temperature_2018.nc'\n",
    "tdewfullpath = \"%s/%s\" % (fpath,tdew)\n",
    "ofile = tdewfullpath.replace(\"era5_single_levels_t2m_\",\"era5_2m_daily_relative_humidity_\")\n",
    "print(t2mfullpath)\n",
    "ds_t2m = xr.open_dataset(t2mfullpath,chunks={'time': 20})\n",
    "ds_tdew = xr.open_dataset(tdewfullpath,chunks={'time': 20})"
   ]
  },
  {
   "cell_type": "code",
   "execution_count": 6,
   "metadata": {},
   "outputs": [
    {
     "data": {
      "text/plain": [
       "OrderedDict([('units', 'K'), ('long_name', '2 metre dewpoint temperature')])"
      ]
     },
     "execution_count": 6,
     "metadata": {},
     "output_type": "execute_result"
    }
   ],
   "source": [
    "ds_t2m\n",
    "ds_tdew\n",
    "ds_tdew.d2m.attrs"
   ]
  },
  {
   "cell_type": "code",
   "execution_count": null,
   "metadata": {
    "collapsed": true
   },
   "outputs": [],
   "source": [
    "t2mvp = np.exp(1.81 + (ds_t2m.t2m * 17.27 - 4717.31) / (ds_t2m.t2m - 35.86))\n",
    "tdewvp = np.exp(1.81 + (ds_tdew.d2m * 17.27 - 4717.31) / (ds_tdew.d2m - 35.86))\n",
    "rh = (tdewvp / t2mvp) * 100"
   ]
  },
  {
   "cell_type": "code",
   "execution_count": null,
   "metadata": {
    "collapsed": true
   },
   "outputs": [],
   "source": [
    "# Create an output dataset with all attributes\n",
    "outds = ds_t2m\n",
    "outds = outds.drop('t2m')\n",
    "outds.attrs['Desc'] = \"Derived from 2m air temperature and 2m dewpoint temperature from ERA5\"\n",
    "rh.attrs['units'] = \"%\"\n",
    "rh.attrs['long_name'] = \"2 metre relative humidity\"\n",
    "outds['rh'] = rh\n",
    "outds = outds.groupby('time.dayofyear').mean('time')\n",
    "outds.to_netcdf(\"/run/media/mjolly/BigFire/projects/era5/data/testout.nc\",format= 'NETCDF4_CLASSIC' )\n",
    "outds"
   ]
  },
  {
   "cell_type": "code",
   "execution_count": null,
   "metadata": {
    "collapsed": true
   },
   "outputs": [],
   "source": [
    "outds.rh.sel(dayofyear=slice('180','240')).mean().shift(longitude=720).plot()"
   ]
  },
  {
   "cell_type": "code",
   "execution_count": null,
   "metadata": {
    "collapsed": true
   },
   "outputs": [],
   "source": [
    "#Aggregate grid from hourly to daily\n",
    "r = outds.rh.groupby('time.dayofyear').mean('time')\n",
    "\n",
    "# Plot a time series by lat / lon\n",
    "r.sel(latitude=45, longitude=360-114, method='nearest', tolerance=5).plot()"
   ]
  },
  {
   "cell_type": "code",
   "execution_count": null,
   "metadata": {
    "collapsed": true
   },
   "outputs": [],
   "source": [
    "def CalcVP(TempK):\n",
    "    # Purpose: Calculate the sautration vapor pressure\n",
    "    return np.exp(1.81 + (TempK * 17.27 - 4717.31) / (TempK - 35.86))\n",
    "\n",
    "def CalcVP_XR(a):\n",
    "    return xr.apply_ufunc(CalcVP, a,keep_attrs=True,dask='parallelized')\n",
    "\n",
    "#with ProgressBar():\n",
    "#    ds.load()"
   ]
  },
  {
   "cell_type": "code",
   "execution_count": null,
   "metadata": {
    "collapsed": true
   },
   "outputs": [],
   "source": [
    "def CVP(TempK):\n",
    "    func = lambda x: np.exp(1.81 + (x* 17.27 - 4717.31) / (x- 35.86))\n",
    "    return xr.apply_ufunc(func,TempK,dask='parallelized',output_dtypes=[float])"
   ]
  },
  {
   "cell_type": "code",
   "execution_count": null,
   "metadata": {
    "collapsed": true
   },
   "outputs": [],
   "source": [
    "ds_sub = ds.sel(time=slice('2018-07-01','2018-07-15'))\n",
    "ds_sub = ds"
   ]
  },
  {
   "cell_type": "code",
   "execution_count": null,
   "metadata": {
    "collapsed": true
   },
   "outputs": [],
   "source": [
    "tempvp = CVP(ds_t2m.t2m )"
   ]
  },
  {
   "cell_type": "code",
   "execution_count": null,
   "metadata": {
    "collapsed": true
   },
   "outputs": [],
   "source": [
    "ds_sub = math.exp(1.81 + (ds_sub.t2m * 17.27 - 4717.31) / (ds_sub.t2m - 35.86))"
   ]
  },
  {
   "cell_type": "code",
   "execution_count": null,
   "metadata": {
    "collapsed": true
   },
   "outputs": [],
   "source": [
    "#tempvp.sel(time=slice('2018-07-01','2018-07-15')).mean().plot()\n",
    "tempvp.sel(time=slice('2018-05-01','2018-07-31')).sel(latitude=45, longitude=360-114, method='nearest', tolerance=5).plot()"
   ]
  },
  {
   "cell_type": "code",
   "execution_count": null,
   "metadata": {
    "collapsed": true
   },
   "outputs": [],
   "source": [
    "d = ds_sub.max(dim='time')"
   ]
  },
  {
   "cell_type": "code",
   "execution_count": null,
   "metadata": {
    "collapsed": true
   },
   "outputs": [],
   "source": [
    "d.plot()"
   ]
  },
  {
   "cell_type": "code",
   "execution_count": null,
   "metadata": {
    "collapsed": true
   },
   "outputs": [],
   "source": [
    "ds_sub.sel(latitude=45, longitude=360-114, method='nearest', tolerance=5).plot()\n"
   ]
  },
  {
   "cell_type": "code",
   "execution_count": null,
   "metadata": {
    "collapsed": true
   },
   "outputs": [],
   "source": [
    "ds_sub.t2m.attrs"
   ]
  },
  {
   "cell_type": "code",
   "execution_count": null,
   "metadata": {
    "collapsed": true
   },
   "outputs": [],
   "source": [
    "from netCDF4 import Dataset\n",
    "dataset = Dataset(t2mfullpath) \n",
    "print (dataset.file_format )\n",
    "print (dataset.dimensions.keys)\n",
    "print (dataset.dimensions)\n",
    "print (dataset.variables)"
   ]
  },
  {
   "cell_type": "code",
   "execution_count": null,
   "metadata": {
    "collapsed": true
   },
   "outputs": [],
   "source": [
    "ds_tdew.d2m.isel(time=0).plot()"
   ]
  },
  {
   "cell_type": "code",
   "execution_count": null,
   "metadata": {
    "collapsed": true
   },
   "outputs": [],
   "source": [
    "print(CalcVP(290))\n"
   ]
  },
  {
   "cell_type": "code",
   "execution_count": null,
   "metadata": {
    "collapsed": true
   },
   "outputs": [],
   "source": [
    "def ProcessERA5RelativeHumidityMin():\n",
    "    yrs = range(1979,2019)\n",
    "    for y in yrs:\n",
    "        print(y)\n",
    "        # Basic file path to NetCDF data files\n",
    "        fpath = '/run/media/mjolly/BigFire/projects/era5/data'\n",
    "        # Air temperature file\n",
    "        t2m = 'era5_single_levels_t2m'\n",
    "        t2mfullpath = \"%s/%s_%s.nc\" % (fpath,t2m,str(y))\n",
    "        # Dewpoint temperature file\n",
    "        tdew = 'era5_single_levels_2m_dewpoint_temperature'\n",
    "        tdewfullpath = \"%s/%s_%s.nc\" % (fpath,tdew,str(y))\n",
    "        ofile = tdewfullpath.replace(\"era5_single_levels_t2m_\",\"era5_2m_daily_relative_humidity_\")\n",
    "        print(t2mfullpath)\n",
    "        ds_t2m = xr.open_dataset(t2mfullpath,chunks={'time': 20})\n",
    "        ds_tdew = xr.open_dataset(tdewfullpath,chunks={'time': 20})\n",
    "        t2mvp = np.exp(1.81 + (ds_t2m.t2m * 17.27 - 4717.31) / (ds_t2m.t2m - 35.86))\n",
    "        tdewvp = np.exp(1.81 + (ds_tdew.d2m * 17.27 - 4717.31) / (ds_tdew.d2m - 35.86))\n",
    "        rh = (tdewvp / t2mvp) * 100\n",
    "        # Create an output dataset with all attributes\n",
    "        outds = ds_t2m\n",
    "        outds = outds.drop('t2m')\n",
    "        outds.attrs['Desc'] = \"Derived from 2m air temperature and 2m dewpoint temperature from ERA5\"\n",
    "        rh.attrs['units'] = \"%\"\n",
    "        rh.attrs['long_name'] = \"2 metre relative humidity\"\n",
    "        outds['rh'] = rh\n",
    "        outds = outds.groupby('time.dayofyear').min('time')\n",
    "        ofile = t2mfullpath.replace('t2m','rhmin')\n",
    "        print(\"Outfile: %s:\" % (ofile))\n",
    "        outds.to_netcdf(ofile,format= 'NETCDF4_CLASSIC' )\n",
    "                \n",
    "        \n",
    "ProcessERA5RelativeHumidity()\n",
    "    "
   ]
  },
  {
   "cell_type": "code",
   "execution_count": 8,
   "metadata": {},
   "outputs": [
    {
     "name": "stdout",
     "output_type": "stream",
     "text": [
      "2018\n",
      "/media/BigFire/projects/era5/data/era5_single_levels_t2m_2018.nc\n",
      "Outfile: /media/BigFire/projects/era5/data/era5_single_levels_rhmax_2018.nc:\n",
      "2017\n",
      "/media/BigFire/projects/era5/data/era5_single_levels_t2m_2017.nc\n",
      "Outfile: /media/BigFire/projects/era5/data/era5_single_levels_rhmax_2017.nc:\n",
      "2016\n",
      "/media/BigFire/projects/era5/data/era5_single_levels_t2m_2016.nc\n",
      "Outfile: /media/BigFire/projects/era5/data/era5_single_levels_rhmax_2016.nc:\n",
      "2015\n",
      "/media/BigFire/projects/era5/data/era5_single_levels_t2m_2015.nc\n",
      "Outfile: /media/BigFire/projects/era5/data/era5_single_levels_rhmax_2015.nc:\n",
      "2014\n",
      "/media/BigFire/projects/era5/data/era5_single_levels_t2m_2014.nc\n",
      "Outfile: /media/BigFire/projects/era5/data/era5_single_levels_rhmax_2014.nc:\n",
      "2013\n",
      "/media/BigFire/projects/era5/data/era5_single_levels_t2m_2013.nc\n",
      "Outfile: /media/BigFire/projects/era5/data/era5_single_levels_rhmax_2013.nc:\n",
      "2012\n",
      "/media/BigFire/projects/era5/data/era5_single_levels_t2m_2012.nc\n",
      "Outfile: /media/BigFire/projects/era5/data/era5_single_levels_rhmax_2012.nc:\n",
      "2011\n",
      "/media/BigFire/projects/era5/data/era5_single_levels_t2m_2011.nc\n",
      "Outfile: /media/BigFire/projects/era5/data/era5_single_levels_rhmax_2011.nc:\n",
      "2010\n",
      "/media/BigFire/projects/era5/data/era5_single_levels_t2m_2010.nc\n",
      "Outfile: /media/BigFire/projects/era5/data/era5_single_levels_rhmax_2010.nc:\n",
      "2009\n",
      "/media/BigFire/projects/era5/data/era5_single_levels_t2m_2009.nc\n",
      "Outfile: /media/BigFire/projects/era5/data/era5_single_levels_rhmax_2009.nc:\n",
      "2008\n",
      "/media/BigFire/projects/era5/data/era5_single_levels_t2m_2008.nc\n",
      "Outfile: /media/BigFire/projects/era5/data/era5_single_levels_rhmax_2008.nc:\n",
      "2007\n",
      "/media/BigFire/projects/era5/data/era5_single_levels_t2m_2007.nc\n",
      "Outfile: /media/BigFire/projects/era5/data/era5_single_levels_rhmax_2007.nc:\n",
      "2006\n",
      "/media/BigFire/projects/era5/data/era5_single_levels_t2m_2006.nc\n",
      "Outfile: /media/BigFire/projects/era5/data/era5_single_levels_rhmax_2006.nc:\n",
      "2005\n",
      "/media/BigFire/projects/era5/data/era5_single_levels_t2m_2005.nc\n",
      "Outfile: /media/BigFire/projects/era5/data/era5_single_levels_rhmax_2005.nc:\n",
      "2004\n",
      "/media/BigFire/projects/era5/data/era5_single_levels_t2m_2004.nc\n",
      "Outfile: /media/BigFire/projects/era5/data/era5_single_levels_rhmax_2004.nc:\n",
      "2003\n",
      "/media/BigFire/projects/era5/data/era5_single_levels_t2m_2003.nc\n",
      "Outfile: /media/BigFire/projects/era5/data/era5_single_levels_rhmax_2003.nc:\n",
      "2002\n",
      "/media/BigFire/projects/era5/data/era5_single_levels_t2m_2002.nc\n",
      "Outfile: /media/BigFire/projects/era5/data/era5_single_levels_rhmax_2002.nc:\n",
      "2001\n",
      "/media/BigFire/projects/era5/data/era5_single_levels_t2m_2001.nc\n",
      "Outfile: /media/BigFire/projects/era5/data/era5_single_levels_rhmax_2001.nc:\n",
      "2000\n",
      "/media/BigFire/projects/era5/data/era5_single_levels_t2m_2000.nc\n",
      "Outfile: /media/BigFire/projects/era5/data/era5_single_levels_rhmax_2000.nc:\n",
      "1999\n",
      "/media/BigFire/projects/era5/data/era5_single_levels_t2m_1999.nc\n",
      "Outfile: /media/BigFire/projects/era5/data/era5_single_levels_rhmax_1999.nc:\n",
      "1998\n",
      "/media/BigFire/projects/era5/data/era5_single_levels_t2m_1998.nc\n",
      "Outfile: /media/BigFire/projects/era5/data/era5_single_levels_rhmax_1998.nc:\n",
      "1997\n",
      "/media/BigFire/projects/era5/data/era5_single_levels_t2m_1997.nc\n",
      "Outfile: /media/BigFire/projects/era5/data/era5_single_levels_rhmax_1997.nc:\n",
      "1996\n",
      "/media/BigFire/projects/era5/data/era5_single_levels_t2m_1996.nc\n",
      "Outfile: /media/BigFire/projects/era5/data/era5_single_levels_rhmax_1996.nc:\n",
      "1995\n",
      "/media/BigFire/projects/era5/data/era5_single_levels_t2m_1995.nc\n",
      "Outfile: /media/BigFire/projects/era5/data/era5_single_levels_rhmax_1995.nc:\n",
      "1994\n",
      "/media/BigFire/projects/era5/data/era5_single_levels_t2m_1994.nc\n",
      "Outfile: /media/BigFire/projects/era5/data/era5_single_levels_rhmax_1994.nc:\n",
      "1993\n",
      "/media/BigFire/projects/era5/data/era5_single_levels_t2m_1993.nc\n",
      "Outfile: /media/BigFire/projects/era5/data/era5_single_levels_rhmax_1993.nc:\n",
      "1992\n",
      "/media/BigFire/projects/era5/data/era5_single_levels_t2m_1992.nc\n",
      "Outfile: /media/BigFire/projects/era5/data/era5_single_levels_rhmax_1992.nc:\n",
      "1991\n",
      "/media/BigFire/projects/era5/data/era5_single_levels_t2m_1991.nc\n",
      "Outfile: /media/BigFire/projects/era5/data/era5_single_levels_rhmax_1991.nc:\n",
      "1990\n",
      "/media/BigFire/projects/era5/data/era5_single_levels_t2m_1990.nc\n",
      "Outfile: /media/BigFire/projects/era5/data/era5_single_levels_rhmax_1990.nc:\n",
      "1989\n",
      "/media/BigFire/projects/era5/data/era5_single_levels_t2m_1989.nc\n",
      "Outfile: /media/BigFire/projects/era5/data/era5_single_levels_rhmax_1989.nc:\n",
      "1988\n",
      "/media/BigFire/projects/era5/data/era5_single_levels_t2m_1988.nc\n",
      "Outfile: /media/BigFire/projects/era5/data/era5_single_levels_rhmax_1988.nc:\n",
      "1987\n",
      "/media/BigFire/projects/era5/data/era5_single_levels_t2m_1987.nc\n",
      "Outfile: /media/BigFire/projects/era5/data/era5_single_levels_rhmax_1987.nc:\n",
      "1986\n",
      "/media/BigFire/projects/era5/data/era5_single_levels_t2m_1986.nc\n",
      "Outfile: /media/BigFire/projects/era5/data/era5_single_levels_rhmax_1986.nc:\n",
      "1985\n",
      "/media/BigFire/projects/era5/data/era5_single_levels_t2m_1985.nc\n",
      "Outfile: /media/BigFire/projects/era5/data/era5_single_levels_rhmax_1985.nc:\n",
      "1984\n",
      "/media/BigFire/projects/era5/data/era5_single_levels_t2m_1984.nc\n",
      "Outfile: /media/BigFire/projects/era5/data/era5_single_levels_rhmax_1984.nc:\n",
      "1983\n",
      "/media/BigFire/projects/era5/data/era5_single_levels_t2m_1983.nc\n",
      "Outfile: /media/BigFire/projects/era5/data/era5_single_levels_rhmax_1983.nc:\n",
      "1982\n",
      "/media/BigFire/projects/era5/data/era5_single_levels_t2m_1982.nc\n",
      "Outfile: /media/BigFire/projects/era5/data/era5_single_levels_rhmax_1982.nc:\n",
      "1981\n",
      "/media/BigFire/projects/era5/data/era5_single_levels_t2m_1981.nc\n",
      "Outfile: /media/BigFire/projects/era5/data/era5_single_levels_rhmax_1981.nc:\n",
      "1980\n",
      "/media/BigFire/projects/era5/data/era5_single_levels_t2m_1980.nc\n",
      "Outfile: /media/BigFire/projects/era5/data/era5_single_levels_rhmax_1980.nc:\n",
      "1979\n",
      "/media/BigFire/projects/era5/data/era5_single_levels_t2m_1979.nc\n",
      "Outfile: /media/BigFire/projects/era5/data/era5_single_levels_rhmax_1979.nc:\n"
     ]
    }
   ],
   "source": [
    "def ProcessERA5RelativeHumidityMax():\n",
    "    yrs = range(2018,1978,-1)\n",
    "    for y in yrs:\n",
    "        print(y)\n",
    "        # Basic file path to NetCDF data files\n",
    "        fpath = '/media/BigFire/projects/era5/data'\n",
    "        # Air temperature file\n",
    "        t2m = 'era5_single_levels_t2m'\n",
    "        t2mfullpath = \"%s/%s_%s.nc\" % (fpath,t2m,str(y))\n",
    "        # Dewpoint temperature file\n",
    "        tdew = 'era5_single_levels_2m_dewpoint_temperature'\n",
    "        tdewfullpath = \"%s/%s_%s.nc\" % (fpath,tdew,str(y))\n",
    "        ofile = tdewfullpath.replace(\"era5_single_levels_t2m_\",\"era5_2m_daily_relative_humidity_\")\n",
    "        print(t2mfullpath)\n",
    "        ds_t2m = xr.open_dataset(t2mfullpath,chunks={'time': 20})\n",
    "        ds_tdew = xr.open_dataset(tdewfullpath,chunks={'time': 20})\n",
    "        t2mvp = np.exp(1.81 + (ds_t2m.t2m * 17.27 - 4717.31) / (ds_t2m.t2m - 35.86))\n",
    "        tdewvp = np.exp(1.81 + (ds_tdew.d2m * 17.27 - 4717.31) / (ds_tdew.d2m - 35.86))\n",
    "        rh = (tdewvp / t2mvp) * 100\n",
    "        # Create an output dataset with all attributes\n",
    "        outds = ds_t2m\n",
    "        outds = outds.drop('t2m')\n",
    "        outds.attrs['Desc'] = \"Derived from 2m air temperature and 2m dewpoint temperature from ERA5\"\n",
    "        rh.attrs['units'] = \"%\"\n",
    "        rh.attrs['long_name'] = \"2 metre relative humidity\"\n",
    "        outds['rh'] = rh\n",
    "        outds = outds.groupby('time.dayofyear').max('time')\n",
    "        ofile = t2mfullpath.replace('t2m','rhmax')\n",
    "        print(\"Outfile: %s:\" % (ofile))\n",
    "        outds.to_netcdf(ofile,format= 'NETCDF4_CLASSIC' )\n",
    "                \n",
    "        \n",
    "ProcessERA5RelativeHumidityMax()"
   ]
  },
  {
   "cell_type": "code",
   "execution_count": null,
   "metadata": {
    "collapsed": true
   },
   "outputs": [],
   "source": []
  }
 ],
 "metadata": {
  "kernelspec": {
   "display_name": "Python 3",
   "language": "python",
   "name": "python3"
  },
  "language_info": {
   "codemirror_mode": {
    "name": "ipython",
    "version": 3
   },
   "file_extension": ".py",
   "mimetype": "text/x-python",
   "name": "python",
   "nbconvert_exporter": "python",
   "pygments_lexer": "ipython3",
   "version": "3.6.3"
  }
 },
 "nbformat": 4,
 "nbformat_minor": 2
}
